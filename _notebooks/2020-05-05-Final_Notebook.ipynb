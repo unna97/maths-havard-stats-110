{
 "cells": [
  {
   "cell_type": "markdown",
   "metadata": {},
   "source": [
    "# When is your birthday?\n",
    "\n",
    "> The Birthday Problem visualized\n",
    "\n",
    "- toc: true \n",
    "- badges: true\n",
    "- comments: true\n",
    "- author: Unnati Patel\n",
    "- categories: [birthday problem, jupyter, birthday paradox,hashing,simulations]\n"
   ]
  },
  {
   "cell_type": "markdown",
   "metadata": {},
   "source": [
    "## What is the Birthday Problem aka Birthday Paradox?\n",
    "\n",
    "First of all,it is not really a parado\n",
    "Suppose you are attending a party. \n",
    "How big do you think the party has to be in order to be that there are two people in the party with the same birthday?\n",
    "Assume, every birthday is equally likely\n"
   ]
  },
  {
   "cell_type": "code",
   "execution_count": 58,
   "metadata": {},
   "outputs": [
    {
     "name": "stdout",
     "output_type": "stream",
     "text": [
      "Put your guess in here:212\n",
      "That's too high,read on to find out why\n"
     ]
    }
   ],
   "source": [
    "x = int(input(\"Put your guess in here:\"))\n",
    "if x < 23:\n",
    "    print(\"Too low..wow your intution is wrong on the opposite way than most people XD\")\n",
    "elif x > 23:\n",
    "    print(\"That's too high,read on to find out why\")\n",
    "else:\n",
    "    print(\"Perfect,You have seen this problem before haven't you?\")"
   ]
  },
  {
   "cell_type": "markdown",
   "metadata": {},
   "source": [
    "## Calculation of Probablity:\n",
    "\n",
    "Let 'n' be the number of people at party.\n",
    "\n",
    "Let's assume that everyone in the party has a different birthday.\n",
    "\n",
    "What is the probablity 'q' of that happening?\n",
    "\n",
    "if n = 2:\n",
    "    \n",
    "    number of choices for first birthday,b1 = 365\n",
    "    number of choices for second birthday,b2 = (365 - 1) = 364 (Anything other than first birthday)\n",
    "    \n",
    "    probablity of choosing the particular day as first birthday = 1/365\n",
    "    probablity of choosing the particular day as second birthday = 1/365 \n",
    "    reason: probablity of choosing any number from 365 choices = 1/365\n",
    "   \n",
    "    q(n = 2) = (365 x (1/365)) x ((364) x (1/365)) = 364/365\n",
    "\n",
    "if n = 3:\n",
    "\n",
    "    similarly,\n",
    "  \n",
    "        b1 = 365\n",
    "        b2 = 365 - 1 = 364\n",
    "        b3 = 365 - 2 = 363 (anything other than 2 already choosen)\n",
    "    \n",
    "    q(n = 3) =  (365 x (1/365)) x ((364) x (1/365)) x (363 x (1/365)) = (364 x 363)/(365 x 365)\n",
    "\n",
    "hence:\n",
    "    \n",
    "    q(n) = (364 x 363 x 362 x .... (365 - (n - 1))) / (365)^(n - 1)\n",
    "         = (365!)/ ((365^n) x ((n - 1)!))\n",
    "  \n",
    "The above calculates the formula for party of 'n' people all with unique birthday.\n",
    "\n",
    "Now the only two scenarios possible are : \n",
    "\n",
    "either there is some birthday match or there is none\n",
    "\n",
    "By law of total probablity:\n",
    "    p(n) + q(n) = 1\n",
    "    where, p(n) is the probablity there is a birthday match\n",
    "therefore:\n",
    "    p(n) = 1 - q(n)\n",
    "    \n",
    "Using the above formulas,the \n"
   ]
  },
  {
   "cell_type": "code",
   "execution_count": 72,
   "metadata": {},
   "outputs": [],
   "source": [
    "def q(n, choices = 365):\n",
    "    q = 1\n",
    "    for i in range(1, n):\n",
    "        x = (choices - i)/choices\n",
    "        q *= x\n",
    "        \n",
    "    return (q) #at max "
   ]
  },
  {
   "cell_type": "code",
   "execution_count": 73,
   "metadata": {},
   "outputs": [],
   "source": [
    "def p(n, choices = 365):\n",
    "    return(1 - q(n,choices))"
   ]
  },
  {
   "cell_type": "markdown",
   "metadata": {},
   "source": [
    "### Probablity of your guess (in %):"
   ]
  },
  {
   "cell_type": "code",
   "execution_count": 74,
   "metadata": {},
   "outputs": [
    {
     "data": {
      "text/plain": [
       "100.0"
      ]
     },
     "execution_count": 74,
     "metadata": {},
     "output_type": "execute_result"
    }
   ],
   "source": [
    "100 * p(x)"
   ]
  },
  {
   "cell_type": "markdown",
   "metadata": {},
   "source": [
    "### Probablity at 23: \n",
    "    (The magic number)"
   ]
  },
  {
   "cell_type": "code",
   "execution_count": 75,
   "metadata": {},
   "outputs": [
    {
     "data": {
      "text/plain": [
       "50.729723432398565"
      ]
     },
     "execution_count": 75,
     "metadata": {},
     "output_type": "execute_result"
    }
   ],
   "source": [
    "100 * p(23)"
   ]
  },
  {
   "cell_type": "markdown",
   "metadata": {},
   "source": [
    "### Why is (most of the time) our guess is too high?"
   ]
  },
  {
   "cell_type": "markdown",
   "metadata": {},
   "source": [
    "As,\n",
    "  the number of people grow linearly : n (i.e 1,2,3,4,5,6,..)\n",
    "  the number of pairs grow quadratically : (n x (n - 1)/2) (i.e 0,1,3,6,10..)\n",
    "The animation below shows how the \"pairs\" increase as number of people increase"
   ]
  },
  {
   "cell_type": "code",
   "execution_count": 85,
   "metadata": {},
   "outputs": [],
   "source": [
    "\n",
    "#imports\n",
    "import random\n",
    "import matplotlib.pyplot as plt\n",
    "import matplotlib.animation\n",
    "from moviepy.editor import *"
   ]
  },
  {
   "cell_type": "code",
   "execution_count": 77,
   "metadata": {},
   "outputs": [],
   "source": [
    "\n",
    "#intializations\n",
    "birthdays_possible = 365\n",
    "X = nx.Graph()\n",
    "X.add_node(0)\n",
    "birthdays = [random.choice(range(birthdays_possible))]\n",
    "match = list()\n",
    "fig, ax = plt.subplots(figsize=(6,4))"
   ]
  },
  {
   "cell_type": "code",
   "execution_count": 78,
   "metadata": {},
   "outputs": [],
   "source": [
    "def update(num):\n",
    "    ax.clear()\n",
    "    if num > 0:\n",
    "        birthdays.append(random.choice(range(birthdays_possible)))\n",
    "    print(birthdays)\n",
    "    for i in range(num):\n",
    "        X.add_edge(i,num)\n",
    "        if birthdays[i] == birthdays[num]:\n",
    "            match.append('r')\n",
    "        else:\n",
    "            match.append('k')\n",
    "    nx.draw_circular(X, ax = ax, with_labels = True, node_color = birthdays,edged_color = match)"
   ]
  },
  {
   "cell_type": "code",
   "execution_count": 79,
   "metadata": {},
   "outputs": [],
   "source": [
    "ani = matplotlib.animation.FuncAnimation(fig, update, frames= 25, interval= 2000, repeat=True)"
   ]
  },
  {
   "cell_type": "code",
   "execution_count": 80,
   "metadata": {},
   "outputs": [
    {
     "name": "stdout",
     "output_type": "stream",
     "text": [
      "[95]\n",
      "[95]\n",
      "[95, 249]\n",
      "[95, 249, 7]\n",
      "[95, 249, 7, 361]\n",
      "[95, 249, 7, 361, 124]\n",
      "[95, 249, 7, 361, 124, 312]\n",
      "[95, 249, 7, 361, 124, 312, 238]\n",
      "[95, 249, 7, 361, 124, 312, 238, 3]\n",
      "[95, 249, 7, 361, 124, 312, 238, 3, 262]\n",
      "[95, 249, 7, 361, 124, 312, 238, 3, 262, 279]\n",
      "[95, 249, 7, 361, 124, 312, 238, 3, 262, 279, 301]\n",
      "[95, 249, 7, 361, 124, 312, 238, 3, 262, 279, 301, 48]\n",
      "[95, 249, 7, 361, 124, 312, 238, 3, 262, 279, 301, 48, 37]\n",
      "[95, 249, 7, 361, 124, 312, 238, 3, 262, 279, 301, 48, 37, 127]\n",
      "[95, 249, 7, 361, 124, 312, 238, 3, 262, 279, 301, 48, 37, 127, 178]\n",
      "[95, 249, 7, 361, 124, 312, 238, 3, 262, 279, 301, 48, 37, 127, 178, 293]\n",
      "[95, 249, 7, 361, 124, 312, 238, 3, 262, 279, 301, 48, 37, 127, 178, 293, 188]\n",
      "[95, 249, 7, 361, 124, 312, 238, 3, 262, 279, 301, 48, 37, 127, 178, 293, 188, 282]\n",
      "[95, 249, 7, 361, 124, 312, 238, 3, 262, 279, 301, 48, 37, 127, 178, 293, 188, 282, 282]\n",
      "[95, 249, 7, 361, 124, 312, 238, 3, 262, 279, 301, 48, 37, 127, 178, 293, 188, 282, 282, 222]\n",
      "[95, 249, 7, 361, 124, 312, 238, 3, 262, 279, 301, 48, 37, 127, 178, 293, 188, 282, 282, 222, 13]\n",
      "[95, 249, 7, 361, 124, 312, 238, 3, 262, 279, 301, 48, 37, 127, 178, 293, 188, 282, 282, 222, 13, 343]\n",
      "[95, 249, 7, 361, 124, 312, 238, 3, 262, 279, 301, 48, 37, 127, 178, 293, 188, 282, 282, 222, 13, 343, 59]\n",
      "[95, 249, 7, 361, 124, 312, 238, 3, 262, 279, 301, 48, 37, 127, 178, 293, 188, 282, 282, 222, 13, 343, 59, 255]\n",
      "[95, 249, 7, 361, 124, 312, 238, 3, 262, 279, 301, 48, 37, 127, 178, 293, 188, 282, 282, 222, 13, 343, 59, 255, 58]\n"
     ]
    }
   ],
   "source": [
    "ani.save('birthday.mp4')"
   ]
  },
  {
   "cell_type": "code",
   "execution_count": 86,
   "metadata": {},
   "outputs": [],
   "source": [
    "def is_there_a_match(birthdays):\n",
    "    return (len(birthdays) != len(set(birthdays)))"
   ]
  },
  {
   "cell_type": "code",
   "execution_count": 87,
   "metadata": {},
   "outputs": [
    {
     "data": {
      "text/plain": [
       "True"
      ]
     },
     "execution_count": 87,
     "metadata": {},
     "output_type": "execute_result"
    }
   ],
   "source": [
    "is_there_a_match(birthdays)"
   ]
  },
  {
   "cell_type": "code",
   "execution_count": 88,
   "metadata": {},
   "outputs": [],
   "source": [
    "# clip = (VideoFileClip(\"birthday.mp4\"))\n",
    "# clip.write_gif(\"birthday.gif\")"
   ]
  },
  {
   "cell_type": "markdown",
   "metadata": {},
   "source": [
    "`![](birthday.gif)`"
   ]
  }
 ],
 "metadata": {
  "kernelspec": {
   "display_name": "Python 3",
   "language": "python",
   "name": "python3"
  },
  "language_info": {
   "codemirror_mode": {
    "name": "ipython",
    "version": 3
   },
   "file_extension": ".py",
   "mimetype": "text/x-python",
   "name": "python",
   "nbconvert_exporter": "python",
   "pygments_lexer": "ipython3",
   "version": "3.7.6"
  }
 },
 "nbformat": 4,
 "nbformat_minor": 4
}
