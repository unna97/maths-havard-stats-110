{
  "nbformat": 4,
  "nbformat_minor": 0,
  "metadata": {
    "kernelspec": {
      "display_name": "Python 3",
      "language": "python",
      "name": "python3"
    },
    "language_info": {
      "codemirror_mode": {
        "name": "ipython",
        "version": 3
      },
      "file_extension": ".py",
      "mimetype": "text/x-python",
      "name": "python",
      "nbconvert_exporter": "python",
      "pygments_lexer": "ipython3",
      "version": "3.7.6"
    },
    "colab": {
      "name": "2020-05-05-Final_Notebook.ipynb",
      "provenance": [],
      "toc_visible": true
    }
  },
  "cells": [
    {
      "cell_type": "markdown",
      "metadata": {
        "id": "-eXL5JseTD63",
        "colab_type": "text"
      },
      "source": [
        "# When is your birthday?\n",
        "\n",
        "> The Birthday Problem visualized\n",
        "\n",
        "- toc: true \n",
        "- badges: true\n",
        "- comments: true\n",
        "- author: Unnati Patel\n",
        "- categories: [birthday problem, jupyter, birthday paradox,hashing,simulations]\n"
      ]
    },
    {
      "cell_type": "markdown",
      "metadata": {
        "id": "MNaJmV2pTD64",
        "colab_type": "text"
      },
      "source": [
        "## What is the Birthday Problem aka Birthday Paradox?\n",
        "\n",
        "First of all,it is not really a parado\n",
        "Suppose you are attending a party. \n",
        "How big do you think the party has to be in order to be that there are two people in the party with the same birthday?\n",
        "Assume, every birthday is equally likely\n"
      ]
    },
    {
      "cell_type": "code",
      "metadata": {
        "id": "kV6SyFHKTD65",
        "colab_type": "code",
        "colab": {
          "base_uri": "https://localhost:8080/",
          "height": 50
        },
        "outputId": "c49cd6de-759e-4205-a20d-4a9999470267"
      },
      "source": [
        "x = int(input(\"Put your guess in here:\"))\n",
        "if x < 23:\n",
        "    print(\"Too low..wow your intution is wrong on the opposite way than most people XD\")\n",
        "elif x > 23:\n",
        "    print(\"That's too high,read on to find out why\")\n",
        "else:\n",
        "    print(\"Perfect,You have seen this problem before haven't you?\")"
      ],
      "execution_count": 14,
      "outputs": [
        {
          "output_type": "stream",
          "text": [
            "Put your guess in here:184\n",
            "That's too high,read on to find out why\n"
          ],
          "name": "stdout"
        }
      ]
    },
    {
      "cell_type": "markdown",
      "metadata": {
        "id": "NDJva2VrTD69",
        "colab_type": "text"
      },
      "source": [
        "## the math or the stuff that goes over my head on the first read XD:\n",
        "\n",
        "Let 'n' be the number of people at party.\n",
        "\n",
        "Let's assume that everyone in the party has a different birthday.\n",
        "\n",
        "What is the probablity 'q' of that happening?\n",
        "\n",
        "if n = 2:\n",
        "    \n",
        "    number of choices for first birthday,b1 = 365\n",
        "    number of choices for second birthday,b2 = (365 - 1) = 364 (Anything other than first birthday)\n",
        "    \n",
        "    probablity of choosing the particular day as first birthday = 1/365\n",
        "    probablity of choosing the particular day as second birthday = 1/365 \n",
        "    reason: probablity of choosing any number from 365 choices = 1/365\n",
        "   \n",
        "    q(n = 2) = (365 x (1/365)) x ((364) x (1/365)) = 364/365\n",
        "\n",
        "if n = 3:\n",
        "\n",
        "    similarly,\n",
        "  \n",
        "        b1 = 365\n",
        "        b2 = 365 - 1 = 364\n",
        "        b3 = 365 - 2 = 363 (anything other than 2 already choosen)\n",
        "    \n",
        "    q(n = 3) =  (365 x (1/365)) x ((364) x (1/365)) x (363 x (1/365)) = (364 x 363)/(365 x 365)\n",
        "\n",
        "hence:\n",
        "    \n",
        "    q(n) = (364 x 363 x 362 x .... (365 - (n - 1))) / (365)^(n - 1)\n",
        "         = (365!)/ ((365^n) x ((n - 1)!))\n",
        "  \n",
        "The above calculates the formula for party of 'n' people all with unique birthday.\n",
        "\n",
        "Now the only two scenarios possible are : \n",
        "\n",
        "either there is some birthday match or there is none\n",
        "\n",
        "By law of total probablity:\n",
        "    p(n) + q(n) = 1\n",
        "    where, p(n) is the probablity there is a birthday match\n",
        "therefore:\n",
        "    p(n) = 1 - q(n)\n",
        "    \n",
        "Using the above formulas,the \n"
      ]
    },
    {
      "cell_type": "code",
      "metadata": {
        "id": "AtxL8shKTD69",
        "colab_type": "code",
        "colab": {}
      },
      "source": [
        "def q(n, choices = 365):\n",
        "    q = 1\n",
        "    for i in range(1, n):\n",
        "        x = (choices - i)/choices\n",
        "        q *= x\n",
        "        \n",
        "    return (q) #at max it is 1"
      ],
      "execution_count": 0,
      "outputs": []
    },
    {
      "cell_type": "code",
      "metadata": {
        "id": "TUygdwoVTD7C",
        "colab_type": "code",
        "colab": {}
      },
      "source": [
        "def p(n, choices = 365):\n",
        "    return(1 - q(n,choices))"
      ],
      "execution_count": 0,
      "outputs": []
    },
    {
      "cell_type": "markdown",
      "metadata": {
        "id": "RQHPPETgTD7H",
        "colab_type": "text"
      },
      "source": [
        "### Probablity of your guess (in %):\n",
        "note: Python tends to approximate 99.99999... to 100"
      ]
    },
    {
      "cell_type": "code",
      "metadata": {
        "id": "2drxQjcSTD7H",
        "colab_type": "code",
        "colab": {
          "base_uri": "https://localhost:8080/",
          "height": 50
        },
        "outputId": "2f22e374-a526-4507-f8ef-9e3a4a9ab1da"
      },
      "source": [
        "print(\"p(x):\",100 * p(x))\n",
        "print(\"q(x):\",100 *q(x)) #for higher guesses comes to 100 because 99.99999"
      ],
      "execution_count": 17,
      "outputs": [
        {
          "output_type": "stream",
          "text": [
            "p(x): 100.0\n",
            "q(x): 2.3834612336895417e-23\n"
          ],
          "name": "stdout"
        }
      ]
    },
    {
      "cell_type": "markdown",
      "metadata": {
        "id": "jwuCDD4cTD7L",
        "colab_type": "text"
      },
      "source": [
        "### Probablity at 23: \n",
        "    (The magic number)"
      ]
    },
    {
      "cell_type": "code",
      "metadata": {
        "id": "iXCPtrnSU51a",
        "colab_type": "code",
        "colab": {
          "base_uri": "https://localhost:8080/",
          "height": 50
        },
        "outputId": "e1567c52-74b5-4981-8d27-19907a0dda1f"
      },
      "source": [
        "print(\"p(23):\",100 * p(23))\n",
        "print(\"q(23):\",100 *q(23))"
      ],
      "execution_count": 18,
      "outputs": [
        {
          "output_type": "stream",
          "text": [
            "p(23): 50.729723432398565\n",
            "q(23): 49.27027656760144\n"
          ],
          "name": "stdout"
        }
      ]
    },
    {
      "cell_type": "markdown",
      "metadata": {
        "id": "fjB9piHYTD7O",
        "colab_type": "text"
      },
      "source": [
        "## Why is (most of the time) our guess is too high?"
      ]
    },
    {
      "cell_type": "markdown",
      "metadata": {
        "id": "UUCfqK2QTD7O",
        "colab_type": "text"
      },
      "source": [
        "As,\n",
        "  the number of people grow linearly : n (i.e 1,2,3,4,5,6,..)\n",
        "  the number of pairs grow quadratically : (n x (n - 1)/2) (i.e 0,1,3,6,10..)\n",
        "The animation below shows how the \"pairs\" increase as number of people increase"
      ]
    },
    {
      "cell_type": "code",
      "metadata": {
        "id": "KF9im1qCTD7P",
        "colab_type": "code",
        "colab": {}
      },
      "source": [
        "\n",
        "#imports\n",
        "import random\n",
        "import networkx as nx\n",
        "import matplotlib.pyplot as plt\n",
        "import matplotlib.animation\n",
        "from moviepy.editor import *"
      ],
      "execution_count": 0,
      "outputs": []
    },
    {
      "cell_type": "code",
      "metadata": {
        "id": "dWpa1LrPTD7R",
        "colab_type": "code",
        "colab": {}
      },
      "source": [
        "#intializations\n",
        "birthdays_possible = 365\n",
        "X = nx.Graph()\n",
        "X.add_node(0)\n",
        "birthdays = [random.choice(range(birthdays_possible))]\n",
        "match = list()\n",
        "fig, ax = plt.subplots(figsize=(6,4))\n",
        "plt.close()"
      ],
      "execution_count": 0,
      "outputs": []
    },
    {
      "cell_type": "code",
      "metadata": {
        "id": "kzTrg-TDTD7U",
        "colab_type": "code",
        "colab": {}
      },
      "source": [
        "def update(num):\n",
        "    ax.clear()\n",
        "    if num > 0:\n",
        "        birthdays.append(random.choice(range(birthdays_possible)))\n",
        "    print(birthdays)\n",
        "    for i in range(num):\n",
        "        X.add_edge(i,num)\n",
        "        if birthdays[i] == birthdays[num]:\n",
        "            match.append('r')\n",
        "        else:\n",
        "            match.append('k')\n",
        "    nx.draw_circular(X, ax = ax, with_labels = True, node_color = birthdays,edged_color = match)"
      ],
      "execution_count": 0,
      "outputs": []
    },
    {
      "cell_type": "code",
      "metadata": {
        "id": "IsPkPIMPTD7W",
        "colab_type": "code",
        "colab": {}
      },
      "source": [
        "ani = matplotlib.animation.FuncAnimation(fig, update, frames= 25, interval= 2000, repeat=True)"
      ],
      "execution_count": 0,
      "outputs": []
    },
    {
      "cell_type": "code",
      "metadata": {
        "id": "EaRrR34vTD7Y",
        "colab_type": "code",
        "colab": {
          "base_uri": "https://localhost:8080/",
          "height": 454
        },
        "outputId": "7990bd1f-a041-48c6-de5d-c7460d9748b7"
      },
      "source": [
        "ani.save('birthday.mp4')"
      ],
      "execution_count": 26,
      "outputs": [
        {
          "output_type": "stream",
          "text": [
            "[175]\n",
            "[175]\n",
            "[175, 164]\n",
            "[175, 164, 49]\n",
            "[175, 164, 49, 174]\n",
            "[175, 164, 49, 174, 325]\n",
            "[175, 164, 49, 174, 325, 63]\n",
            "[175, 164, 49, 174, 325, 63, 205]\n",
            "[175, 164, 49, 174, 325, 63, 205, 174]\n",
            "[175, 164, 49, 174, 325, 63, 205, 174, 67]\n",
            "[175, 164, 49, 174, 325, 63, 205, 174, 67, 185]\n",
            "[175, 164, 49, 174, 325, 63, 205, 174, 67, 185, 59]\n",
            "[175, 164, 49, 174, 325, 63, 205, 174, 67, 185, 59, 62]\n",
            "[175, 164, 49, 174, 325, 63, 205, 174, 67, 185, 59, 62, 166]\n",
            "[175, 164, 49, 174, 325, 63, 205, 174, 67, 185, 59, 62, 166, 38]\n",
            "[175, 164, 49, 174, 325, 63, 205, 174, 67, 185, 59, 62, 166, 38, 297]\n",
            "[175, 164, 49, 174, 325, 63, 205, 174, 67, 185, 59, 62, 166, 38, 297, 300]\n",
            "[175, 164, 49, 174, 325, 63, 205, 174, 67, 185, 59, 62, 166, 38, 297, 300, 174]\n",
            "[175, 164, 49, 174, 325, 63, 205, 174, 67, 185, 59, 62, 166, 38, 297, 300, 174, 359]\n",
            "[175, 164, 49, 174, 325, 63, 205, 174, 67, 185, 59, 62, 166, 38, 297, 300, 174, 359, 256]\n",
            "[175, 164, 49, 174, 325, 63, 205, 174, 67, 185, 59, 62, 166, 38, 297, 300, 174, 359, 256, 103]\n",
            "[175, 164, 49, 174, 325, 63, 205, 174, 67, 185, 59, 62, 166, 38, 297, 300, 174, 359, 256, 103, 219]\n",
            "[175, 164, 49, 174, 325, 63, 205, 174, 67, 185, 59, 62, 166, 38, 297, 300, 174, 359, 256, 103, 219, 17]\n",
            "[175, 164, 49, 174, 325, 63, 205, 174, 67, 185, 59, 62, 166, 38, 297, 300, 174, 359, 256, 103, 219, 17, 198]\n",
            "[175, 164, 49, 174, 325, 63, 205, 174, 67, 185, 59, 62, 166, 38, 297, 300, 174, 359, 256, 103, 219, 17, 198, 45]\n",
            "[175, 164, 49, 174, 325, 63, 205, 174, 67, 185, 59, 62, 166, 38, 297, 300, 174, 359, 256, 103, 219, 17, 198, 45, 57]\n"
          ],
          "name": "stdout"
        }
      ]
    },
    {
      "cell_type": "code",
      "metadata": {
        "id": "ib7DBp7qTD7b",
        "colab_type": "code",
        "colab": {}
      },
      "source": [
        "def is_there_a_match(birthdays):\n",
        "    return (len(birthdays) != len(set(birthdays)))"
      ],
      "execution_count": 0,
      "outputs": []
    },
    {
      "cell_type": "code",
      "metadata": {
        "id": "Ak95wVZZTD7d",
        "colab_type": "code",
        "colab": {
          "base_uri": "https://localhost:8080/",
          "height": 34
        },
        "outputId": "b79255c8-25d0-4db7-a8cd-ddadca0ba417"
      },
      "source": [
        "is_there_a_match(birthdays)"
      ],
      "execution_count": 28,
      "outputs": [
        {
          "output_type": "execute_result",
          "data": {
            "text/plain": [
              "True"
            ]
          },
          "metadata": {
            "tags": []
          },
          "execution_count": 28
        }
      ]
    },
    {
      "cell_type": "code",
      "metadata": {
        "id": "u3qr4tfHTD7f",
        "colab_type": "code",
        "colab": {}
      },
      "source": [
        " clip = (VideoFileClip(\"birthday.mp4\"))\n",
        " clip.write_gif(\"birthday.gif\")"
      ],
      "execution_count": 0,
      "outputs": []
    },
    {
      "cell_type": "markdown",
      "metadata": {
        "id": "THKBXQsQTD7i",
        "colab_type": "text"
      },
      "source": [
        "`![](birthday.gif)`"
      ]
    }
  ]
}