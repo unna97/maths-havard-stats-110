{
  "nbformat": 4,
  "nbformat_minor": 0,
  "metadata": {
    "kernelspec": {
      "display_name": "Python 3",
      "language": "python",
      "name": "python3"
    },
    "language_info": {
      "codemirror_mode": {
        "name": "ipython",
        "version": 3
      },
      "file_extension": ".py",
      "mimetype": "text/x-python",
      "name": "python",
      "nbconvert_exporter": "python",
      "pygments_lexer": "ipython3",
      "version": "3.7.6"
    },
    "colab": {
      "name": "2020-05-05-Final_Notebook.ipynb",
      "provenance": [],
      "toc_visible": true
    }
  },
  "cells": [
    {
      "cell_type": "markdown",
      "metadata": {
        "id": "-eXL5JseTD63",
        "colab_type": "text"
      },
      "source": [
        "# When is your birthday?\n",
        "\n",
        "> The Birthday Problem visualized\n",
        "\n",
        "- toc: true \n",
        "- badges: true\n",
        "- comments: true\n",
        "- author: Unnati Patel\n",
        "- categories: [birthday problem, jupyter, birthday paradox,hashing,simulations]\n"
      ]
    },
    {
      "cell_type": "markdown",
      "metadata": {
        "id": "MNaJmV2pTD64",
        "colab_type": "text"
      },
      "source": [
        "## What is the Birthday Problem aka Birthday Paradox?\n",
        "\n",
        "First of all,it is not really a parado\n",
        "Suppose you are attending a party. \n",
        "How big do you think the party has to be in order to be that there are two people in the party with the same birthday?\n",
        "Assume, every birthday is equally likely\n"
      ]
    },
    {
      "cell_type": "code",
      "metadata": {
        "id": "kV6SyFHKTD65",
        "colab_type": "code",
        "outputId": "b9852f7a-42e9-4519-dca3-2a828d22ed12",
        "colab": {
          "base_uri": "https://localhost:8080/",
          "height": 50
        }
      },
      "source": [
        "#collapse-hide\n",
        "x = int(input(\"Put your guess in here:\"))\n",
        "if x < 23:\n",
        "    print(\"Too low..wow your intution is wrong on the opposite way than most people XD\")\n",
        "elif x > 23:\n",
        "    print(\"That's too high,read on to find out why\")\n",
        "else:\n",
        "    print(\"Perfect,You have seen this problem before haven't you?\")"
      ],
      "execution_count": 1,
      "outputs": [
        {
          "output_type": "stream",
          "text": [
            "Put your guess in here:185\n",
            "That's too high,read on to find out why\n"
          ],
          "name": "stdout"
        }
      ]
    },
    {
      "cell_type": "markdown",
      "metadata": {
        "id": "NDJva2VrTD69",
        "colab_type": "text"
      },
      "source": [
        "## The math (stuff that goes over my head on the first read):\n",
        "\n",
        "Let 'n' be the number of people at party.\n",
        "\n",
        "Let's assume that everyone in the party has a different birthday.\n",
        "\n",
        "What is the probablity 'q' of that happening?\n",
        "\n",
        "if n = 2:\n",
        "    \n",
        "    number of choices for first birthday,b1 = 365\n",
        "    number of choices for second birthday,b2 = (365 - 1) = 364 (Anything other than first birthday)\n",
        "    \n",
        "    probablity of choosing the particular day as first birthday = 1/365\n",
        "    probablity of choosing the particular day as second birthday = 1/365 \n",
        "    reason: probablity of choosing any number from 365 choices = 1/365\n",
        "   \n",
        "    q(n = 2) = (365 x (1/365)) x ((364) x (1/365)) = 364/365\n",
        "\n",
        "if n = 3:\n",
        "\n",
        "    similarly,\n",
        "  \n",
        "        b1 = 365\n",
        "        b2 = 365 - 1 = 364\n",
        "        b3 = 365 - 2 = 363 (anything other than 2 already choosen)\n",
        "    \n",
        "    q(n = 3) =  (365 x (1/365)) x ((364) x (1/365)) x (363 x (1/365)) = (364 x 363)/(365 x 365)\n",
        "\n",
        "hence:\n",
        "    \n",
        "    q(n) = (364 x 363 x 362 x .... (365 - (n - 1))) / (365)^(n - 1)\n",
        "         = (365!)/ ((365^n) x ((n - 1)!))\n",
        "  \n",
        "The above calculates the formula for party of 'n' people all with unique birthday.\n",
        "\n",
        "Now the only two scenarios possible are : \n",
        "\n",
        "either there is some birthday match or there is none\n",
        "\n",
        "By law of total probablity:\n",
        "    p(n) + q(n) = 1\n",
        "    where, p(n) is the probablity there is a birthday match\n",
        "therefore:\n",
        "    p(n) = 1 - q(n)\n",
        "    \n",
        "Using the above formulas,the \n"
      ]
    },
    {
      "cell_type": "code",
      "metadata": {
        "id": "AtxL8shKTD69",
        "colab_type": "code",
        "colab": {}
      },
      "source": [
        "#collapse-hide\n",
        "def q(n, choices = 365):\n",
        "    q = 1\n",
        "    for i in range(1, n):\n",
        "        x = (choices - i)/choices\n",
        "        q *= x\n",
        "        \n",
        "    return (q) #at max it is 1"
      ],
      "execution_count": 0,
      "outputs": []
    },
    {
      "cell_type": "code",
      "metadata": {
        "id": "TUygdwoVTD7C",
        "colab_type": "code",
        "colab": {}
      },
      "source": [
        "#collapse-hide\n",
        "def p(n, choices = 365):\n",
        "    return(1 - q(n,choices))"
      ],
      "execution_count": 0,
      "outputs": []
    },
    {
      "cell_type": "markdown",
      "metadata": {
        "id": "RQHPPETgTD7H",
        "colab_type": "text"
      },
      "source": [
        "### Probablity of your guess (in %):\n",
        "note: Python tends to approximate 99.99999... to 100"
      ]
    },
    {
      "cell_type": "code",
      "metadata": {
        "id": "2drxQjcSTD7H",
        "colab_type": "code",
        "outputId": "877be05e-2375-459f-adbb-3ff4a88cde46",
        "colab": {
          "base_uri": "https://localhost:8080/",
          "height": 50
        }
      },
      "source": [
        "#collapse-hide\n",
        "print(\"p(x):\",100 * p(x))\n",
        "print(\"q(x):\",100 *q(x)) #for higher guesses comes to 100 because 99.99999"
      ],
      "execution_count": 4,
      "outputs": [
        {
          "output_type": "stream",
          "text": [
            "p(x): 100.0\n",
            "q(x): 1.1819355706789237e-23\n"
          ],
          "name": "stdout"
        }
      ]
    },
    {
      "cell_type": "markdown",
      "metadata": {
        "id": "jwuCDD4cTD7L",
        "colab_type": "text"
      },
      "source": [
        "### Probablity at 23: \n",
        "    (The magic number)\n",
        "    If you reverse the above calculation the number that is closest for 50% is 23"
      ]
    },
    {
      "cell_type": "code",
      "metadata": {
        "id": "iXCPtrnSU51a",
        "colab_type": "code",
        "outputId": "44cf1879-18eb-4650-ead3-11544ea046b8",
        "colab": {
          "base_uri": "https://localhost:8080/",
          "height": 50
        }
      },
      "source": [
        "#collapse-hide\n",
        "print(\"p(23):\",100 * p(23))\n",
        "print(\"q(23):\",100 *q(23))"
      ],
      "execution_count": 5,
      "outputs": [
        {
          "output_type": "stream",
          "text": [
            "p(23): 50.729723432398565\n",
            "q(23): 49.27027656760144\n"
          ],
          "name": "stdout"
        }
      ]
    },
    {
      "cell_type": "markdown",
      "metadata": {
        "id": "yGIQe3O44H11",
        "colab_type": "text"
      },
      "source": [
        "## It still isn't believable, simulate it:"
      ]
    },
    {
      "cell_type": "code",
      "metadata": {
        "id": "CMsG98ZA4-BR",
        "colab_type": "code",
        "colab": {}
      },
      "source": [
        ""
      ],
      "execution_count": 0,
      "outputs": []
    },
    {
      "cell_type": "markdown",
      "metadata": {
        "id": "fjB9piHYTD7O",
        "colab_type": "text"
      },
      "source": [
        "## Why is (most of the time) our guess is too high?"
      ]
    },
    {
      "cell_type": "markdown",
      "metadata": {
        "id": "UUCfqK2QTD7O",
        "colab_type": "text"
      },
      "source": [
        "As,\n",
        "  the number of people grow linearly : n (i.e 1,2,3,4,5,6,..)\n",
        "  the number of pairs grow quadratically : (n x (n - 1)/2) (i.e 0,1,3,6,10..)\n",
        "The animation below shows how the \"pairs\" increase as number of people increase"
      ]
    },
    {
      "cell_type": "code",
      "metadata": {
        "id": "KF9im1qCTD7P",
        "colab_type": "code",
        "colab": {}
      },
      "source": [
        "#collapse-hide\n",
        "#imports\n",
        "import random\n",
        "import networkx as nx\n",
        "import matplotlib.pyplot as plt\n",
        "import matplotlib.animation\n",
        "from moviepy.editor import *"
      ],
      "execution_count": 0,
      "outputs": []
    },
    {
      "cell_type": "code",
      "metadata": {
        "id": "dWpa1LrPTD7R",
        "colab_type": "code",
        "colab": {}
      },
      "source": [
        "#collapse-hide\n",
        "#intializations\n",
        "birthdays_possible = 365\n",
        "X = nx.Graph()\n",
        "X.add_node(0)\n",
        "birthdays = [random.choice(range(birthdays_possible))]\n",
        "match = list()\n",
        "fig, ax = plt.subplots(figsize=(6,4))\n",
        "plt.close()"
      ],
      "execution_count": 0,
      "outputs": []
    },
    {
      "cell_type": "code",
      "metadata": {
        "id": "kzTrg-TDTD7U",
        "colab_type": "code",
        "colab": {}
      },
      "source": [
        "#collapse-hide\n",
        "def update(num):\n",
        "    ax.clear()\n",
        "    if num > 0:\n",
        "        birthdays.append(random.choice(range(birthdays_possible)))\n",
        "    print(birthdays)\n",
        "    for i in range(num):\n",
        "        X.add_edge(i,num)\n",
        "        if birthdays[i] == birthdays[num]:\n",
        "            match.append('r')\n",
        "        else:\n",
        "            match.append('k')\n",
        "    nx.draw_circular(X, ax = ax, with_labels = True, node_color = birthdays,edged_color = match)"
      ],
      "execution_count": 0,
      "outputs": []
    },
    {
      "cell_type": "code",
      "metadata": {
        "id": "IsPkPIMPTD7W",
        "colab_type": "code",
        "colab": {}
      },
      "source": [
        "#collapse-hide\n",
        "ani = matplotlib.animation.FuncAnimation(fig, update, frames= 25, interval= 2000, repeat=True)"
      ],
      "execution_count": 0,
      "outputs": []
    },
    {
      "cell_type": "code",
      "metadata": {
        "id": "EaRrR34vTD7Y",
        "colab_type": "code",
        "outputId": "72ad1e4d-9141-45b2-9b47-f28ed961b2f9",
        "colab": {
          "base_uri": "https://localhost:8080/",
          "height": 470
        }
      },
      "source": [
        "#collapse-hide\n",
        "print(\"birthdays selected in the animation:\")\n",
        "ani.save('birthday.mp4')"
      ],
      "execution_count": 10,
      "outputs": [
        {
          "output_type": "stream",
          "text": [
            "birthdays selected in the animation:\n",
            "[7]\n",
            "[7]\n",
            "[7, 27]\n",
            "[7, 27, 18]\n",
            "[7, 27, 18, 182]\n",
            "[7, 27, 18, 182, 222]\n",
            "[7, 27, 18, 182, 222, 295]\n",
            "[7, 27, 18, 182, 222, 295, 222]\n",
            "[7, 27, 18, 182, 222, 295, 222, 278]\n",
            "[7, 27, 18, 182, 222, 295, 222, 278, 128]\n",
            "[7, 27, 18, 182, 222, 295, 222, 278, 128, 343]\n",
            "[7, 27, 18, 182, 222, 295, 222, 278, 128, 343, 185]\n",
            "[7, 27, 18, 182, 222, 295, 222, 278, 128, 343, 185, 342]\n",
            "[7, 27, 18, 182, 222, 295, 222, 278, 128, 343, 185, 342, 110]\n",
            "[7, 27, 18, 182, 222, 295, 222, 278, 128, 343, 185, 342, 110, 258]\n",
            "[7, 27, 18, 182, 222, 295, 222, 278, 128, 343, 185, 342, 110, 258, 217]\n",
            "[7, 27, 18, 182, 222, 295, 222, 278, 128, 343, 185, 342, 110, 258, 217, 147]\n",
            "[7, 27, 18, 182, 222, 295, 222, 278, 128, 343, 185, 342, 110, 258, 217, 147, 300]\n",
            "[7, 27, 18, 182, 222, 295, 222, 278, 128, 343, 185, 342, 110, 258, 217, 147, 300, 203]\n",
            "[7, 27, 18, 182, 222, 295, 222, 278, 128, 343, 185, 342, 110, 258, 217, 147, 300, 203, 18]\n",
            "[7, 27, 18, 182, 222, 295, 222, 278, 128, 343, 185, 342, 110, 258, 217, 147, 300, 203, 18, 360]\n",
            "[7, 27, 18, 182, 222, 295, 222, 278, 128, 343, 185, 342, 110, 258, 217, 147, 300, 203, 18, 360, 63]\n",
            "[7, 27, 18, 182, 222, 295, 222, 278, 128, 343, 185, 342, 110, 258, 217, 147, 300, 203, 18, 360, 63, 115]\n",
            "[7, 27, 18, 182, 222, 295, 222, 278, 128, 343, 185, 342, 110, 258, 217, 147, 300, 203, 18, 360, 63, 115, 219]\n",
            "[7, 27, 18, 182, 222, 295, 222, 278, 128, 343, 185, 342, 110, 258, 217, 147, 300, 203, 18, 360, 63, 115, 219, 158]\n",
            "[7, 27, 18, 182, 222, 295, 222, 278, 128, 343, 185, 342, 110, 258, 217, 147, 300, 203, 18, 360, 63, 115, 219, 158, 242]\n"
          ],
          "name": "stdout"
        }
      ]
    },
    {
      "cell_type": "code",
      "metadata": {
        "id": "ib7DBp7qTD7b",
        "colab_type": "code",
        "colab": {}
      },
      "source": [
        "#collapse-hide\n",
        "def is_there_a_match(birthdays):\n",
        "    return (len(birthdays) != len(set(birthdays)))"
      ],
      "execution_count": 0,
      "outputs": []
    },
    {
      "cell_type": "code",
      "metadata": {
        "id": "Ak95wVZZTD7d",
        "colab_type": "code",
        "outputId": "958ec752-83ef-4881-e7c2-7f0f3052bd8f",
        "colab": {
          "base_uri": "https://localhost:8080/",
          "height": 34
        }
      },
      "source": [
        "#collapse-hide\n",
        "is_there_a_match(birthdays)"
      ],
      "execution_count": 12,
      "outputs": [
        {
          "output_type": "execute_result",
          "data": {
            "text/plain": [
              "True"
            ]
          },
          "metadata": {
            "tags": []
          },
          "execution_count": 12
        }
      ]
    },
    {
      "cell_type": "code",
      "metadata": {
        "id": "u3qr4tfHTD7f",
        "colab_type": "code",
        "colab": {}
      },
      "source": [
        "#collapse-hide\n",
        "clip = (VideoFileClip(\"birthday.mp4\"))\n",
        "clip.write_gif(\"birthday.gif\")"
      ],
      "execution_count": 0,
      "outputs": []
    },
    {
      "cell_type": "markdown",
      "metadata": {
        "id": "THKBXQsQTD7i",
        "colab_type": "text"
      },
      "source": [
        "`![](https://github.com/unna97/maths-havard-stats-110/blob/master/images/birthday.gif)`"
      ]
    }
  ]
}